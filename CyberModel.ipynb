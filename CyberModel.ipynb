{
 "cells": [
  {
   "cell_type": "code",
   "execution_count": 1,
   "id": "8f2a2a18-4e34-4018-90c2-8b1f1f953453",
   "metadata": {},
   "outputs": [],
   "source": [
    "import pandas as pd\n",
    "import torch\n",
    "from transformers import DistilBertTokenizer, DistilBertModel\n",
    "from sklearn.feature_extraction.text import CountVectorizer\n",
    "from sklearn.linear_model import LogisticRegression\n",
    "from sklearn.metrics import classification_report\n",
    "from sklearn.model_selection import train_test_split\n",
    "from scipy.sparse import hstack, csr_matrix\n",
    "import joblib\n",
    "import numpy as np\n"
   ]
  },
  {
   "cell_type": "code",
   "execution_count": 2,
   "id": "2b7c32e3-c689-498f-8902-31871135bbe4",
   "metadata": {},
   "outputs": [],
   "source": [
    "# Load dataset\n",
    "df = pd.read_csv(\"test.csv\")  # Replace with your dataset path\n",
    "# Handle missing values in the dataset\n",
    "df['crimeaditionalinfo'] = df['crimeaditionalinfo'].fillna(\"\")  # Replace NaN in the text column with an empty string\n",
    "df['category'] = df['category'].fillna(\"Unknown\")  # Replace NaN in categories with \"Unknown\"\n",
    "df['sub_category'] = df['sub_category'].fillna(\"Unknown\")  # Replace NaN in subcategories with \"Unknown\"\n",
    "texts = df['crimeaditionalinfo']\n",
    "categories = df['category']  # Broad types (e.g., Phishing, Malware)\n",
    "subcategories = df['sub_category']  # Specific types (e.g., Spear Phishing, Ransomware)\n",
    "\n",
    "# Split dataset into train and validation sets\n",
    "train_texts, val_texts, train_categories, val_categories, train_subcategories, val_subcategories = train_test_split(\n",
    "    texts, categories, subcategories, test_size=0.2, random_state=42\n",
    ")\n",
    "# Ensure no NaN values in train and validation sets\n",
    "train_texts = train_texts.fillna(\"\")\n",
    "val_texts = val_texts.fillna(\"\")"
   ]
  },
  {
   "cell_type": "code",
   "execution_count": 3,
   "id": "6c7fa622-95d4-41cf-8229-03ac6310889b",
   "metadata": {},
   "outputs": [
    {
     "name": "stderr",
     "output_type": "stream",
     "text": [
      "C:\\Users\\harsh\\AppData\\Local\\Programs\\Python\\Python312\\Lib\\site-packages\\huggingface_hub\\file_download.py:1132: FutureWarning: `resume_download` is deprecated and will be removed in version 1.0.0. Downloads always resume when possible. If you want to force a new download, use `force_download=True`.\n",
      "  warnings.warn(\n"
     ]
    }
   ],
   "source": [
    "# Initialize CountVectorizer for Bag-of-Words\n",
    "vectorizer = CountVectorizer(lowercase=True, stop_words=\"english\", max_features=5000)\n",
    "bow_train = vectorizer.fit_transform(train_texts)\n",
    "bow_val = vectorizer.transform(val_texts)\n",
    "\n",
    "# Initialize DistilBERT tokenizer and model\n",
    "tokenizer = DistilBertTokenizer.from_pretrained('distilbert-base-uncased')\n",
    "bert_model = DistilBertModel.from_pretrained('distilbert-base-uncased')\n"
   ]
  },
  {
   "cell_type": "code",
   "execution_count": 5,
   "id": "163f4d68-ff83-4aab-a7ad-5fdd5ad6bc1d",
   "metadata": {},
   "outputs": [
    {
     "name": "stdout",
     "output_type": "stream",
     "text": [
      "Generating BERT embeddings on GPU...\n"
     ]
    }
   ],
   "source": [
    "# Check if GPU is available\n",
    "device = torch.device(\"cuda\" if torch.cuda.is_available() else \"cpu\")\n",
    "bert_model = bert_model.to(device)  # Move model to GPU\n",
    "\n",
    "# Function to extract BERT embeddings on GPU\n",
    "def extract_bert_embeddings_on_gpu(texts, batch_size=64):\n",
    "    all_embeddings = []\n",
    "    for i in range(0, len(texts), batch_size):\n",
    "        batch_texts = texts[i:i + batch_size]\n",
    "        \n",
    "        # Tokenize and move inputs to GPU\n",
    "        inputs = tokenizer(list(batch_texts), return_tensors=\"pt\", truncation=True, padding=True, max_length=128).to(device)\n",
    "        \n",
    "        # Forward pass through the model\n",
    "        with torch.no_grad():\n",
    "            outputs = bert_model(**inputs)\n",
    "        \n",
    "        # Extract embeddings and move them back to CPU\n",
    "        batch_embeddings = outputs.last_hidden_state.mean(dim=1).cpu().numpy()\n",
    "        all_embeddings.append(batch_embeddings)\n",
    "        \n",
    "        # Clear GPU cache\n",
    "        torch.cuda.empty_cache()\n",
    "    \n",
    "    return np.vstack(all_embeddings)\n",
    "\n",
    "# Generate or load cached embeddings\n",
    "try:\n",
    "    bert_train = joblib.load(\"bert_train.pkl\")\n",
    "    bert_val = joblib.load(\"bert_val.pkl\")\n",
    "    print(\"Loaded cached BERT embeddings.\")\n",
    "except FileNotFoundError:\n",
    "    print(\"Generating BERT embeddings on GPU...\")\n",
    "    bert_train = extract_bert_embeddings_on_gpu(train_texts)\n",
    "    bert_val = extract_bert_embeddings_on_gpu(val_texts)\n",
    "    joblib.dump(bert_train, \"bert_train.pkl\")\n",
    "    joblib.dump(bert_val, \"bert_val.pkl\")\n"
   ]
  },
  {
   "cell_type": "code",
   "execution_count": 6,
   "id": "84eaadbb-c8d1-4e90-8299-fc285b0a2f1e",
   "metadata": {},
   "outputs": [],
   "source": [
    "# Convert BERT embeddings to sparse matrices\n",
    "bert_train_sparse = csr_matrix(bert_train)\n",
    "bert_val_sparse = csr_matrix(bert_val)\n",
    "\n",
    "# Combine BoW and BERT features\n",
    "combined_train = hstack([bow_train, bert_train_sparse])\n",
    "combined_val = hstack([bow_val, bert_val_sparse])\n"
   ]
  },
  {
   "cell_type": "code",
   "execution_count": 8,
   "id": "6e6b231e-47b6-4103-876e-0dc371740e37",
   "metadata": {},
   "outputs": [
    {
     "name": "stdout",
     "output_type": "stream",
     "text": [
      "Category Classification Report:\n",
      "                                                      precision    recall  f1-score   support\n",
      "\n",
      "                               Any Other Cyber Crime       0.30      0.28      0.29       687\n",
      "Child Pornography CPChild Sexual Abuse Material CSAM       0.50      0.19      0.28        26\n",
      "                      Crime Against Women & Children       0.00      0.00      0.00         2\n",
      "                                Cryptocurrency Crime       0.58      0.35      0.44        31\n",
      "                      Cyber Attack/ Dependent Crimes       0.99      1.00      1.00       267\n",
      "                                     Cyber Terrorism       0.00      0.00      0.00        15\n",
      "      Hacking  Damage to computercomputer system etc       0.32      0.19      0.24       126\n",
      "                            Online Cyber Trafficking       0.00      0.00      0.00        12\n",
      "                              Online Financial Fraud       0.83      0.89      0.86      3787\n",
      "                            Online Gambling  Betting       0.17      0.09      0.12        22\n",
      "               Online and Social Media Related Crime       0.51      0.50      0.51       855\n",
      "                                          Ransomware       1.00      0.14      0.25         7\n",
      "           RapeGang Rape RGRSexually Abusive Content       0.95      0.91      0.93       181\n",
      "                               Sexually Explicit Act       0.13      0.10      0.11        91\n",
      "                           Sexually Obscene material       0.32      0.26      0.29       137\n",
      "\n",
      "                                            accuracy                           0.72      6246\n",
      "                                           macro avg       0.44      0.33      0.35      6246\n",
      "                                        weighted avg       0.70      0.72      0.71      6246\n",
      "\n"
     ]
    },
    {
     "name": "stderr",
     "output_type": "stream",
     "text": [
      "C:\\Users\\harsh\\AppData\\Local\\Programs\\Python\\Python312\\Lib\\site-packages\\sklearn\\metrics\\_classification.py:1509: UndefinedMetricWarning: Precision is ill-defined and being set to 0.0 in labels with no predicted samples. Use `zero_division` parameter to control this behavior.\n",
      "  _warn_prf(average, modifier, f\"{metric.capitalize()} is\", len(result))\n",
      "C:\\Users\\harsh\\AppData\\Local\\Programs\\Python\\Python312\\Lib\\site-packages\\sklearn\\metrics\\_classification.py:1509: UndefinedMetricWarning: Precision is ill-defined and being set to 0.0 in labels with no predicted samples. Use `zero_division` parameter to control this behavior.\n",
      "  _warn_prf(average, modifier, f\"{metric.capitalize()} is\", len(result))\n",
      "C:\\Users\\harsh\\AppData\\Local\\Programs\\Python\\Python312\\Lib\\site-packages\\sklearn\\metrics\\_classification.py:1509: UndefinedMetricWarning: Precision is ill-defined and being set to 0.0 in labels with no predicted samples. Use `zero_division` parameter to control this behavior.\n",
      "  _warn_prf(average, modifier, f\"{metric.capitalize()} is\", len(result))\n"
     ]
    }
   ],
   "source": [
    "# Train a category classifier\n",
    "category_model = LogisticRegression(max_iter=1000)\n",
    "category_model.fit(combined_train, train_categories)\n",
    "\n",
    "# Evaluate the category classifier\n",
    "val_category_preds = category_model.predict(combined_val)\n",
    "print(\"Category Classification Report:\")\n",
    "print(classification_report(val_categories, val_category_preds))\n"
   ]
  },
  {
   "cell_type": "code",
   "execution_count": 9,
   "id": "63992df8-6f47-4c0b-b927-b1d5b3b7f6e3",
   "metadata": {},
   "outputs": [
    {
     "name": "stdout",
     "output_type": "stream",
     "text": [
      "Subcategory Classification Report:\n",
      "                                                                      precision    recall  f1-score   support\n",
      "\n",
      "                             Business Email CompromiseEmail Takeover       0.00      0.00      0.00        22\n",
      "                                           Cheating by Impersonation       0.14      0.10      0.12       145\n",
      "                                        Computer Generated CSAM/CSEM       0.00      0.00      0.00         2\n",
      "                                                Cryptocurrency Fraud       0.48      0.42      0.45        31\n",
      "                                   Cyber Bullying  Stalking  Sexting       0.35      0.35      0.35       272\n",
      "                                                     Cyber Terrorism       0.00      0.00      0.00        15\n",
      "                             Damage to computer computer systems etc       0.00      0.00      0.00         9\n",
      "                                                   Data Breach/Theft       0.19      0.12      0.15        42\n",
      "                                DebitCredit Card FraudSim Swap Fraud       0.65      0.60      0.62       725\n",
      "                                               DematDepository Fraud       0.10      0.05      0.07        38\n",
      "Denial of Service (DoS)/Distributed Denial of Service (DDOS) attacks       0.16      0.18      0.17        38\n",
      "                                                      EMail Phishing       0.00      0.00      0.00         9\n",
      "                                               EWallet Related Fraud       0.41      0.31      0.35       249\n",
      "                                                       Email Hacking       0.54      0.25      0.34        28\n",
      "                                           FakeImpersonating Profile       0.37      0.31      0.34       159\n",
      "                                                   Fraud CallVishing       0.26      0.26      0.26       366\n",
      "                                                  Hacking/Defacement       0.14      0.12      0.13        50\n",
      "                                                 Impersonating Email       0.00      0.00      0.00         1\n",
      "                                      Internet Banking Related Fraud       0.58      0.52      0.55       613\n",
      "                                                  Intimidating Email       0.00      0.00      0.00         3\n",
      "                                                      Malware Attack       0.10      0.17      0.12        29\n",
      "                                            Online Gambling  Betting       0.25      0.14      0.18        22\n",
      "                                                    Online Job Fraud       0.21      0.10      0.13        63\n",
      "                                            Online Matrimonial Fraud       0.00      0.00      0.00         3\n",
      "                                                  Online Trafficking       0.00      0.00      0.00        12\n",
      "                                                               Other       0.30      0.34      0.32       687\n",
      "                                      Profile Hacking Identity Theft       0.46      0.36      0.41       172\n",
      "                                Provocative Speech for unlawful acts       0.07      0.04      0.05        28\n",
      "                                                          Ransomware       1.00      0.14      0.25         7\n",
      "                                                   Ransomware Attack       0.14      0.10      0.11        42\n",
      "                                                       SQL Injection       0.00      0.00      0.00        34\n",
      "                            Tampering with computer source documents       0.25      0.40      0.30        35\n",
      "                                                  UPI Related Frauds       0.64      0.77      0.70      1774\n",
      "                                      Unauthorised AccessData Breach       0.25      0.15      0.19        81\n",
      "                                                             Unknown       0.58      0.63      0.61       435\n",
      "                                           Website DefacementHacking       0.00      0.00      0.00         5\n",
      "\n",
      "                                                            accuracy                           0.50      6246\n",
      "                                                           macro avg       0.24      0.19      0.20      6246\n",
      "                                                        weighted avg       0.48      0.50      0.48      6246\n",
      "\n"
     ]
    },
    {
     "name": "stderr",
     "output_type": "stream",
     "text": [
      "C:\\Users\\harsh\\AppData\\Local\\Programs\\Python\\Python312\\Lib\\site-packages\\sklearn\\metrics\\_classification.py:1509: UndefinedMetricWarning: Precision is ill-defined and being set to 0.0 in labels with no predicted samples. Use `zero_division` parameter to control this behavior.\n",
      "  _warn_prf(average, modifier, f\"{metric.capitalize()} is\", len(result))\n",
      "C:\\Users\\harsh\\AppData\\Local\\Programs\\Python\\Python312\\Lib\\site-packages\\sklearn\\metrics\\_classification.py:1509: UndefinedMetricWarning: Precision is ill-defined and being set to 0.0 in labels with no predicted samples. Use `zero_division` parameter to control this behavior.\n",
      "  _warn_prf(average, modifier, f\"{metric.capitalize()} is\", len(result))\n",
      "C:\\Users\\harsh\\AppData\\Local\\Programs\\Python\\Python312\\Lib\\site-packages\\sklearn\\metrics\\_classification.py:1509: UndefinedMetricWarning: Precision is ill-defined and being set to 0.0 in labels with no predicted samples. Use `zero_division` parameter to control this behavior.\n",
      "  _warn_prf(average, modifier, f\"{metric.capitalize()} is\", len(result))\n"
     ]
    }
   ],
   "source": [
    "# Train a subcategory classifier\n",
    "subcategory_model = LogisticRegression(max_iter=1000)\n",
    "subcategory_model.fit(combined_train, train_subcategories)\n",
    "\n",
    "# Evaluate the subcategory classifier\n",
    "val_subcategory_preds = subcategory_model.predict(combined_val)\n",
    "print(\"Subcategory Classification Report:\")\n",
    "print(classification_report(val_subcategories, val_subcategory_preds))\n"
   ]
  },
  {
   "cell_type": "code",
   "execution_count": 31,
   "id": "aa407e28-75d3-45a4-99c5-20bdbf9cfe93",
   "metadata": {},
   "outputs": [
    {
     "name": "stdout",
     "output_type": "stream",
     "text": [
      "Text: My credit card got stolen.\n",
      "Predicted Category: Any Other Cyber Crime\n",
      "Predicted Subcategory: Other\n"
     ]
    }
   ],
   "source": [
    "# Function to predict category and subcategory\n",
    "def predict_category_and_subcategory(text, category_model, subcategory_model, vectorizer, bert_model, tokenizer, device):\n",
    "    # Extract BoW features\n",
    "    bow_features = vectorizer.transform([text])\n",
    "\n",
    "    # Extract BERT embeddings\n",
    "    inputs = tokenizer(text, return_tensors=\"pt\", truncation=True, padding=True, max_length=128).to(device)\n",
    "    with torch.no_grad():\n",
    "        bert_features = bert_model(**inputs).last_hidden_state.mean(dim=1).cpu().numpy()\n",
    "\n",
    "    # Combine features\n",
    "    combined_features = hstack([bow_features, csr_matrix(bert_features)])\n",
    "\n",
    "    # Predict category and subcategory\n",
    "    predicted_category = category_model.predict(combined_features)[0]\n",
    "    predicted_subcategory = subcategory_model.predict(combined_features)[0]\n",
    "\n",
    "    return predicted_category, predicted_subcategory\n",
    "\n",
    "# Test prediction\n",
    "test_text = \"My credit card got stolen.\"\n",
    "predicted_category, predicted_subcategory = predict_category_and_subcategory(\n",
    "    test_text, category_model, subcategory_model, vectorizer, bert_model, tokenizer, device\n",
    ")\n",
    "\n",
    "print(f\"Text: {test_text}\")\n",
    "print(f\"Predicted Category: {predicted_category}\")\n",
    "print(f\"Predicted Subcategory: {predicted_subcategory}\")\n"
   ]
  },
  {
   "cell_type": "code",
   "execution_count": 25,
   "id": "68438354-6639-472e-8ddb-6b67826157ad",
   "metadata": {},
   "outputs": [
    {
     "data": {
      "text/plain": [
       "['bert_val.pkl']"
      ]
     },
     "execution_count": 25,
     "metadata": {},
     "output_type": "execute_result"
    }
   ],
   "source": [
    "# Save category classifier\n",
    "joblib.dump(category_model, \"category_model.pkl\")\n",
    "\n",
    "# Save subcategory classifier\n",
    "joblib.dump(subcategory_model, \"subcategory_model.pkl\")\n",
    "# Save CountVectorizer\n",
    "joblib.dump(vectorizer, \"vectorizer.pkl\")\n",
    "# Save tokenizer and model\n",
    "tokenizer.save_pretrained(\"bert_tokenizer/\")\n",
    "bert_model.save_pretrained(\"bert_model/\")\n",
    "# Save BERT embeddings\n",
    "joblib.dump(bert_train, \"bert_train.pkl\")\n",
    "joblib.dump(bert_val, \"bert_val.pkl\")\n",
    "\n"
   ]
  },
  {
   "cell_type": "code",
   "execution_count": 26,
   "id": "13ca37ce-54dd-47b1-8e5f-cce3d27df48c",
   "metadata": {},
   "outputs": [
    {
     "name": "stdout",
     "output_type": "stream",
     "text": [
      "Text: An attacker used ransomware to encrypt files.\n",
      "Predicted Category: Hacking  Damage to computercomputer system etc\n",
      "Predicted Subcategory: Unauthorised AccessData Breach\n"
     ]
    }
   ],
   "source": [
    "# Load models, vectorizer, and BERT components\n",
    "category_model = joblib.load(\"category_model.pkl\")\n",
    "subcategory_model = joblib.load(\"subcategory_model.pkl\")\n",
    "vectorizer = joblib.load(\"vectorizer.pkl\")\n",
    "tokenizer = DistilBertTokenizer.from_pretrained(\"bert_tokenizer/\")\n",
    "bert_model = DistilBertModel.from_pretrained(\"bert_model/\").to(device)\n",
    "\n",
    "# Predict for new text\n",
    "test_text = \"An attacker used ransomware to encrypt files.\"\n",
    "predicted_category, predicted_subcategory = predict_category_and_subcategory(\n",
    "    test_text, category_model, subcategory_model, vectorizer, bert_model, tokenizer, device\n",
    ")\n",
    "\n",
    "print(f\"Text: {test_text}\")\n",
    "print(f\"Predicted Category: {predicted_category}\")\n",
    "print(f\"Predicted Subcategory: {predicted_subcategory}\")\n"
   ]
  }
 ],
 "metadata": {
  "kernelspec": {
   "display_name": "Python 3 (ipykernel)",
   "language": "python",
   "name": "python3"
  },
  "language_info": {
   "codemirror_mode": {
    "name": "ipython",
    "version": 3
   },
   "file_extension": ".py",
   "mimetype": "text/x-python",
   "name": "python",
   "nbconvert_exporter": "python",
   "pygments_lexer": "ipython3",
   "version": "3.12.2"
  }
 },
 "nbformat": 4,
 "nbformat_minor": 5
}
